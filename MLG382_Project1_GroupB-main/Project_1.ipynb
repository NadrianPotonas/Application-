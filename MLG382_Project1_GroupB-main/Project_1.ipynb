{
 "cells": [
  {
   "cell_type": "markdown",
   "metadata": {},
   "source": [
    "# 1. Problem Statement\n",
    "----------------------------------------------"
   ]
  },
  {
   "cell_type": "code",
   "execution_count": 1,
   "metadata": {},
   "outputs": [
    {
     "data": {
      "text/plain": [
       "\"\\nBC Finance aims to automate the real-time process of evaluating a customer's eligibility for a home loan by using the information they supply when submitting an online application. In order to effectively divide clients into segments that are eligible and ineligible for house loans, it is necessary to construct a prediction model that evaluates a variety of characteristics, including gender, marital status, education, income, and credit history.\\n\\n\""
      ]
     },
     "execution_count": 1,
     "metadata": {},
     "output_type": "execute_result"
    }
   ],
   "source": [
    "#Problem Statement\n",
    "'''\n",
    "BC Finance aims to automate the real-time process of evaluating a customer's eligibility for a home loan by using the information they supply when submitting an online application. In order to effectively divide clients into segments that are eligible and ineligible for house loans, it is necessary to construct a prediction model that evaluates a variety of characteristics, including gender, marital status, education, income, and credit history.\n",
    "\n",
    "'''"
   ]
  },
  {
   "cell_type": "markdown",
   "metadata": {},
   "source": [
    "-----------------------------------\n",
    "# 2. Hypothesis Generation\n",
    "-----------------------------------"
   ]
  },
  {
   "cell_type": "code",
   "execution_count": 2,
   "metadata": {},
   "outputs": [
    {
     "data": {
      "text/plain": [
       "'\\n1.\\tIncome Hypothesis: Customers with higher incomes are more likely to be eligible for larger loan amounts compared to those with lower incomes.\\n2.\\tCredit History Hypothesis: Customers with a positive credit history are more likely to be eligible for loans compared to those with a negative credit history or no credit history.\\n3.\\tMarital Status Hypothesis: Married individuals may have a higher likelihood of loan eligibility compared to single individuals, as they may have more stable financial backgrounds.\\n4.\\tEducation Hypothesis: Customers with higher levels of education may exhibit more responsible financial behavior and thus have a higher likelihood of loan eligibility.\\n5.\\tGender Hypothesis: There may be differences in loan eligibility based on gender, with one gender potentially having a higher likelihood of loan approval due to various socio-economic factors.\\n6.\\tNumber of Dependents Hypothesis: Customers with fewer dependents may have a higher likelihood of loan eligibility as they may have more disposable income.\\n7.\\tLoan Amount Hypothesis: Customers applying for smaller loan amounts may have a higher likelihood of loan approval compared to those applying for larger loan amounts, due to lower risk for the lender.\\n\\n'"
      ]
     },
     "execution_count": 2,
     "metadata": {},
     "output_type": "execute_result"
    }
   ],
   "source": [
    "#Hypothesis Generation\n",
    "'''\n",
    "1.\tIncome Hypothesis: Customers with higher incomes are more likely to be eligible for larger loan amounts compared to those with lower incomes.\n",
    "2.\tCredit History Hypothesis: Customers with a positive credit history are more likely to be eligible for loans compared to those with a negative credit history or no credit history.\n",
    "3.\tMarital Status Hypothesis: Married individuals may have a higher likelihood of loan eligibility compared to single individuals, as they may have more stable financial backgrounds.\n",
    "4.\tEducation Hypothesis: Customers with higher levels of education may exhibit more responsible financial behavior and thus have a higher likelihood of loan eligibility.\n",
    "5.\tGender Hypothesis: There may be differences in loan eligibility based on gender, with one gender potentially having a higher likelihood of loan approval due to various socio-economic factors.\n",
    "6.\tNumber of Dependents Hypothesis: Customers with fewer dependents may have a higher likelihood of loan eligibility as they may have more disposable income.\n",
    "7.\tLoan Amount Hypothesis: Customers applying for smaller loan amounts may have a higher likelihood of loan approval compared to those applying for larger loan amounts, due to lower risk for the lender.\n",
    "\n",
    "'''"
   ]
  },
  {
   "cell_type": "markdown",
   "metadata": {},
   "source": [
    "-----------------------------------\n",
    "# 3. System  and Data \n",
    "-----------------------------------"
   ]
  },
  {
   "cell_type": "code",
   "execution_count": null,
   "metadata": {},
   "outputs": [],
   "source": [
    "\n"
   ]
  },
  {
   "cell_type": "code",
   "execution_count": 3,
   "metadata": {},
   "outputs": [],
   "source": [
    "import pandas as pd\n",
    "import matplotlib.pyplot as plt\n",
    "import seaborn as sns"
   ]
  },
  {
   "cell_type": "code",
   "execution_count": 4,
   "metadata": {},
   "outputs": [],
   "source": [
    "import dash\n",
    "from dash import dcc, html\n",
    "from dash.dependencies import Input, Output\n",
    "\n",
    "import joblib\n",
    "\n",
    "from sklearn.inspection import permutation_importance"
   ]
  },
  {
   "cell_type": "code",
   "execution_count": 5,
   "metadata": {},
   "outputs": [],
   "source": [
    "import numpy as np\n",
    "\n",
    "from sklearn.model_selection import train_test_split, GridSearchCV\n",
    "from sklearn.pipeline import make_pipeline\n",
    "from sklearn.preprocessing import StandardScaler, OneHotEncoder\n",
    "from sklearn.neural_network import MLPClassifier"
   ]
  },
  {
   "cell_type": "code",
   "execution_count": 6,
   "metadata": {},
   "outputs": [],
   "source": [
    "#Load data into a Pandas DataFrame\n",
    "df1 = pd.read_csv(\"./DataSheet/raw_data.csv\")"
   ]
  },
  {
   "cell_type": "code",
   "execution_count": 7,
   "metadata": {},
   "outputs": [
    {
     "name": "stdout",
     "output_type": "stream",
     "text": [
      "------------------------------\n",
      "DataFrame\n",
      "------------------------------\n",
      "    Loan_ID Gender Married Dependents     Education Self_Employed  \\\n",
      "0  LP001002   Male      No          0      Graduate            No   \n",
      "1  LP001003   Male     Yes          1      Graduate            No   \n",
      "2  LP001005   Male     Yes          0      Graduate           Yes   \n",
      "3  LP001006   Male     Yes          0  Not Graduate            No   \n",
      "4  LP001008   Male      No          0      Graduate            No   \n",
      "\n",
      "   ApplicantIncome  CoapplicantIncome  LoanAmount  Loan_Amount_Term  \\\n",
      "0             5849                0.0         NaN             360.0   \n",
      "1             4583             1508.0       128.0             360.0   \n",
      "2             3000                0.0        66.0             360.0   \n",
      "3             2583             2358.0       120.0             360.0   \n",
      "4             6000                0.0       141.0             360.0   \n",
      "\n",
      "   Credit_History Property_Area Loan_Status  \n",
      "0             1.0         Urban           Y  \n",
      "1             1.0         Rural           N  \n",
      "2             1.0         Urban           Y  \n",
      "3             1.0         Urban           Y  \n",
      "4             1.0         Urban           Y  \n",
      "\n",
      "------------------------------\n",
      "Data Types\n",
      "------------------------------\n",
      "Loan_ID               object\n",
      "Gender                object\n",
      "Married               object\n",
      "Dependents            object\n",
      "Education             object\n",
      "Self_Employed         object\n",
      "ApplicantIncome        int64\n",
      "CoapplicantIncome    float64\n",
      "LoanAmount           float64\n",
      "Loan_Amount_Term     float64\n",
      "Credit_History       float64\n",
      "Property_Area         object\n",
      "Loan_Status           object\n",
      "dtype: object\n",
      "\n",
      "\n",
      "------------------------------\n",
      "Statistics\n",
      "------------------------------\n",
      "       ApplicantIncome  CoapplicantIncome  LoanAmount  Loan_Amount_Term  \\\n",
      "count       614.000000         614.000000  592.000000         600.00000   \n",
      "mean       5403.459283        1621.245798  146.412162         342.00000   \n",
      "std        6109.041673        2926.248369   85.587325          65.12041   \n",
      "min         150.000000           0.000000    9.000000          12.00000   \n",
      "25%        2877.500000           0.000000  100.000000         360.00000   \n",
      "50%        3812.500000        1188.500000  128.000000         360.00000   \n",
      "75%        5795.000000        2297.250000  168.000000         360.00000   \n",
      "max       81000.000000       41667.000000  700.000000         480.00000   \n",
      "\n",
      "       Credit_History  \n",
      "count      564.000000  \n",
      "mean         0.842199  \n",
      "std          0.364878  \n",
      "min          0.000000  \n",
      "25%          1.000000  \n",
      "50%          1.000000  \n",
      "75%          1.000000  \n",
      "max          1.000000  \n",
      "\n",
      "\n",
      "------------------------------\n",
      "Size of the DataFrame\n",
      "------------------------------\n",
      "Rows: 614\n",
      "Columns: 13\n",
      "------------------------------\n",
      "\n"
     ]
    }
   ],
   "source": [
    "\n",
    "# Display the first few rows of the DataFrame\n",
    "print(f'{\"-\"*30}\\n'\n",
    "      f'DataFrame\\n'\n",
    "      f'{\"-\"*30}\\n'\n",
    "      f'{df1.head()}\\n')\n",
    "\n",
    "\n",
    "# Display data types of columns\n",
    "print(f'{\"-\"*30}\\n'\n",
    "      f'Data Types\\n'\n",
    "      f'{\"-\"*30}\\n'\n",
    "      f'{df1.dtypes}\\n')\n",
    "\n",
    "\n",
    "# Display summary statistics\n",
    "print(f'\\n{\"-\"*30}\\n'\n",
    "      f'Statistics\\n'\n",
    "      f'{\"-\"*30}\\n'\n",
    "      f'{df1.describe()}\\n')\n",
    "\n",
    "\n",
    "# Display the shape of the DataFrame\n",
    "print(f'\\n{\"-\"*30}\\n'\n",
    "      f'Size of the DataFrame\\n'\n",
    "      f'{\"-\"*30}\\n'\n",
    "      f'Rows: {df1.shape[0]}\\n'\n",
    "      f'Columns: {df1.shape[1]}\\n'\n",
    "      f'{\"-\"*30}\\n')\n"
   ]
  },
  {
   "cell_type": "markdown",
   "metadata": {},
   "source": []
  },
  {
   "cell_type": "markdown",
   "metadata": {},
   "source": [
    "-----------------------------------\n",
    "# 4. Data Anlysis\n",
    "-----------------------------------"
   ]
  },
  {
   "cell_type": "markdown",
   "metadata": {},
   "source": [
    "### Univariate Analysis"
   ]
  },
  {
   "cell_type": "markdown",
   "metadata": {},
   "source": [
    "##### Bar plots of categorical feature"
   ]
  },
  {
   "cell_type": "code",
   "execution_count": 8,
   "metadata": {},
   "outputs": [
    {
     "data": {
      "image/png": "[encoded data removed]",
      "text/plain": [
       "<Figure size 1000x600 with 1 Axes>"
      ]
     },
     "metadata": {},
     "output_type": "display_data"
    }
   ],
   "source": [
    "# Set style\n",
    "sns.set(style=\"whitegrid\")\n",
    "\n",
    "# Create the count plot with Seaborn\n",
    "plt.figure(figsize=(10, 6))\n",
    "sns.countplot(x='Gender', data=df1, hue='Loan_Status', palette='muted', edgecolor='black')\n",
    "\n",
    "# Customize labels and title\n",
    "plt.xlabel('Gender', fontsize=14)\n",
    "plt.ylabel('Number of Customers', fontsize=14)\n",
    "plt.title('Loan Approval Status by Gender', fontsize=16)\n",
    "\n",
    "# Add legend with title\n",
    "plt.legend(title='Loan Status',labels=['Yes', 'No'])\n",
    "\n",
    "# Rotate x-axis labels for better readability\n",
    "plt.xticks(rotation=45)\n",
    "\n",
    "# Show plot\n",
    "plt.show()"
   ]
  },
  {
   "cell_type": "code",
   "execution_count": 9,
   "metadata": {},
   "outputs": [
    {
     "data": {
      "image/png": "[encoded data removed]",
      "text/plain": [
       "<Figure size 1000x600 with 1 Axes>"
      ]
     },
     "metadata": {},
     "output_type": "display_data"
    }
   ],
   "source": [
    "# Set style\n",
    "sns.set(style=\"whitegrid\")\n",
    "\n",
    "# Create the count plot with Seaborn\n",
    "plt.figure(figsize=(10, 6))\n",
    "sns.countplot(x='Married', data=df1, hue='Loan_Status', palette='muted', edgecolor='black')\n",
    "\n",
    "# Customize labels and title\n",
    "plt.xlabel('Married', fontsize=14)\n",
    "plt.ylabel('Number of Customers', fontsize=14)\n",
    "plt.title('Loan Approval Status by Marital Status', fontsize=16)\n",
    "\n",
    "# Rotate x-axis labels for better readability\n",
    "plt.xticks(rotation=45)\n",
    "\n",
    "# Add legend with custom location and title\n",
    "plt.legend(title='Loan Status', loc='upper right',labels=['Yes', 'No'])\n",
    "\n",
    "# Show plot\n",
    "plt.show()"
   ]
  },
  {
   "cell_type": "code",
   "execution_count": 10,
   "metadata": {},
   "outputs": [
    {
     "data": {
      "image/png": "[encoded data removed]",
      "text/plain": [
       "<Figure size 1000x600 with 1 Axes>"
      ]
     },
     "metadata": {},
     "output_type": "display_data"
    }
   ],
   "source": [
    "# Set style\n",
    "sns.set(style=\"whitegrid\")\n",
    "\n",
    "# Create the count plot with Seaborn\n",
    "plt.figure(figsize=(10, 6))\n",
    "sns.countplot(x='Education', data=df1, hue='Loan_Status', palette='muted', edgecolor='black')\n",
    "\n",
    "# Customize labels and title\n",
    "plt.xlabel('Education', fontsize=14)\n",
    "plt.ylabel('Number of Customers', fontsize=14)\n",
    "plt.title('Loan Approval Status by Education', fontsize=16)\n",
    "\n",
    "# Rotate x-axis labels for better readability\n",
    "plt.xticks(rotation=45)\n",
    "\n",
    "# Add legend with custom location and title\n",
    "plt.legend(title='Loan Status', loc='upper right',labels=['Yes', 'No'])\n",
    "\n",
    "# Show plot\n",
    "plt.show()"
   ]
  },
  {
   "cell_type": "markdown",
   "metadata": {},
   "source": [
    "##### Histograms of  numerical feature"
   ]
  },
  {
   "cell_type": "code",
   "execution_count": 11,
   "metadata": {},
   "outputs": [
    {
     "data": {
      "image/png": "[encoded data removed]",
      "text/plain": [
       "<Figure size 1000x600 with 1 Axes>"
      ]
     },
     "metadata": {},
     "output_type": "display_data"
    }
   ],
   "source": [
    "# Create the histogram with Matplotlib\n",
    "plt.figure(figsize=(10, 6))\n",
    "plt.hist(df1['LoanAmount'], bins=20, color='skyblue', edgecolor='black')\n",
    "\n",
    "# Customize labels and title\n",
    "plt.xlabel('Loan Amount', fontsize=14)\n",
    "plt.ylabel('Number of Customers', fontsize=14)\n",
    "plt.title('Distribution of Loan Amounts for Customers', fontsize=16)\n",
    "\n",
    "# Add gridlines\n",
    "plt.grid(True)\n",
    "\n",
    "# Show plot\n",
    "plt.show()"
   ]
  },
  {
   "cell_type": "code",
   "execution_count": 12,
   "metadata": {},
   "outputs": [
    {
     "data": {
      "image/png": "[encoded data removed]",
      "text/plain": [
       "<Figure size 1000x600 with 1 Axes>"
      ]
     },
     "metadata": {},
     "output_type": "display_data"
    }
   ],
   "source": [
    "plt.figure(figsize=(10, 6))\n",
    "plt.hist(df1['ApplicantIncome'], bins=20, color='skyblue', edgecolor='black')\n",
    "plt.xlabel('Applicant Income')\n",
    "plt.ylabel('Customers')\n",
    "plt.title('Distribution of Applicant Income for Customers')\n",
    "plt.grid(True)\n",
    "plt.show()"
   ]
  },
  {
   "cell_type": "markdown",
   "metadata": {},
   "source": [
    "### Bivariate Analysis"
   ]
  },
  {
   "cell_type": "markdown",
   "metadata": {},
   "source": [
    "##### Scatter plot"
   ]
  },
  {
   "cell_type": "code",
   "execution_count": 13,
   "metadata": {},
   "outputs": [
    {
     "data": {
      "image/png": "[encoded data removed]",
      "text/plain": [
       "<Figure size 500x500 with 1 Axes>"
      ]
     },
     "metadata": {},
     "output_type": "display_data"
    }
   ],
   "source": [
    "\n",
    "# Set style\n",
    "sns.set(style=\"whitegrid\")\n",
    "\n",
    "\n",
    "sns.lmplot(x='LoanAmount', y='ApplicantIncome', data=df1, line_kws={'color': 'red'}, scatter_kws={'color': 'coral'})\n",
    "\n",
    "# Add labels and title with increased font size\n",
    "plt.xlabel('Loan Amount', fontsize=14)\n",
    "plt.ylabel('Applicant Income', fontsize=14)\n",
    "plt.title('Relationship between Loan Amount and Applicant Income', fontsize=16)\n",
    "\n",
    "# Show plot\n",
    "plt.show()"
   ]
  },
  {
   "cell_type": "markdown",
   "metadata": {},
   "source": [
    "##### Box plot"
   ]
  },
  {
   "cell_type": "code",
   "execution_count": 14,
   "metadata": {},
   "outputs": [
    {
     "data": {
      "image/png": "[encoded data removed]",
      "text/plain": [
       "<Figure size 1000x600 with 1 Axes>"
      ]
     },
     "metadata": {},
     "output_type": "display_data"
    }
   ],
   "source": [
    "# Set style\n",
    "sns.set(style=\"whitegrid\")\n",
    "\n",
    "# Create the box plot with Seaborn\n",
    "plt.figure(figsize=(10, 6))\n",
    "sns.boxplot(x='Self_Employed', y='LoanAmount', data=df1, hue='Self_Employed', palette='pastel', saturation=0.75)\n",
    "\n",
    "# Customize labels and title\n",
    "plt.xlabel('Self Employed', fontsize=14)\n",
    "plt.ylabel('Loan Amount', fontsize=14)\n",
    "plt.title('Distribution of Loan Amount by Self Employment Status', fontsize=16)\n",
    "\n",
    "# Rotate x-axis labels for better readability\n",
    "plt.xticks(rotation=45)\n",
    "\n",
    "# Hide the legend to declutter the plot\n",
    "plt.legend().remove()\n",
    "\n",
    "# Show plot\n",
    "plt.show()"
   ]
  },
  {
   "cell_type": "markdown",
   "metadata": {},
   "source": [
    "-----------------------------------\n",
    "# 5. Missing Value and Outliers\n",
    "-----------------------------------"
   ]
  },
  {
   "cell_type": "markdown",
   "metadata": {},
   "source": [
    "##### Missing Values"
   ]
  },
  {
   "cell_type": "code",
   "execution_count": 15,
   "metadata": {},
   "outputs": [
    {
     "data": {
      "text/plain": [
       "Loan_ID               0\n",
       "Gender               13\n",
       "Married               3\n",
       "Dependents           15\n",
       "Education             0\n",
       "Self_Employed        32\n",
       "ApplicantIncome       0\n",
       "CoapplicantIncome     0\n",
       "LoanAmount           22\n",
       "Loan_Amount_Term     14\n",
       "Credit_History       50\n",
       "Property_Area         0\n",
       "Loan_Status           0\n",
       "dtype: int64"
      ]
     },
     "execution_count": 15,
     "metadata": {},
     "output_type": "execute_result"
    }
   ],
   "source": [
    "#  Checking for Missing Values in DataFrame\n",
    "df1.isnull().sum()"
   ]
  },
  {
   "cell_type": "code",
   "execution_count": 16,
   "metadata": {},
   "outputs": [
    {
     "data": {
      "text/plain": [
       "Loan_ID              0\n",
       "Gender               0\n",
       "Married              0\n",
       "Dependents           0\n",
       "Education            0\n",
       "Self_Employed        0\n",
       "ApplicantIncome      0\n",
       "CoapplicantIncome    0\n",
       "LoanAmount           0\n",
       "Loan_Amount_Term     0\n",
       "Credit_History       0\n",
       "Property_Area        0\n",
       "Loan_Status          0\n",
       "dtype: int64"
      ]
     },
     "execution_count": 16,
     "metadata": {},
     "output_type": "execute_result"
    }
   ],
   "source": [
    "# Impute categorical features with mode\n",
    "categorical_features = ['Gender', 'Married', 'Dependents', 'Self_Employed', 'Loan_Amount_Term']\n",
    "for feature in categorical_features:\n",
    "    df1[feature] = df1[feature].fillna(df1[feature].mode()[0])\n",
    "\n",
    "# Impute numerical feature (LoanAmount) with median\n",
    "df1['LoanAmount'] = df1['LoanAmount'].fillna(df1['LoanAmount'].median())\n",
    "\n",
    "# Drop rows with missing values for Credit_History\n",
    "df1.dropna(subset=['Credit_History'], inplace=True)\n",
    "\n",
    "#  Checking for Missing Values in DataFrame\n",
    "df1.isnull().sum()\n"
   ]
  },
  {
   "cell_type": "markdown",
   "metadata": {},
   "source": [
    "##### Outliers"
   ]
  },
  {
   "cell_type": "code",
   "execution_count": 17,
   "metadata": {},
   "outputs": [
    {
     "data": {
      "text/html": [
       "<div>\n",
       "<style scoped>\n",
       "    .dataframe tbody tr th:only-of-type {\n",
       "        vertical-align: middle;\n",
       "    }\n",
       "\n",
       "    .dataframe tbody tr th {\n",
       "        vertical-align: top;\n",
       "    }\n",
       "\n",
       "    .dataframe thead th {\n",
       "        text-align: right;\n",
       "    }\n",
       "</style>\n",
       "<table border=\"1\" class=\"dataframe\">\n",
       "  <thead>\n",
       "    <tr style=\"text-align: right;\">\n",
       "      <th></th>\n",
       "      <th>ApplicantIncome</th>\n",
       "      <th>CoapplicantIncome</th>\n",
       "      <th>LoanAmount</th>\n",
       "      <th>Loan_Amount_Term</th>\n",
       "      <th>Credit_History</th>\n",
       "    </tr>\n",
       "  </thead>\n",
       "  <tbody>\n",
       "    <tr>\n",
       "      <th>count</th>\n",
       "      <td>564.000000</td>\n",
       "      <td>564.000000</td>\n",
       "      <td>564.000000</td>\n",
       "      <td>564.000000</td>\n",
       "      <td>564.000000</td>\n",
       "    </tr>\n",
       "    <tr>\n",
       "      <th>mean</th>\n",
       "      <td>5466.436170</td>\n",
       "      <td>1530.448440</td>\n",
       "      <td>144.452128</td>\n",
       "      <td>342.595745</td>\n",
       "      <td>0.842199</td>\n",
       "    </tr>\n",
       "    <tr>\n",
       "      <th>std</th>\n",
       "      <td>6271.344106</td>\n",
       "      <td>2471.721359</td>\n",
       "      <td>81.805055</td>\n",
       "      <td>63.838715</td>\n",
       "      <td>0.364878</td>\n",
       "    </tr>\n",
       "    <tr>\n",
       "      <th>min</th>\n",
       "      <td>150.000000</td>\n",
       "      <td>0.000000</td>\n",
       "      <td>9.000000</td>\n",
       "      <td>36.000000</td>\n",
       "      <td>0.000000</td>\n",
       "    </tr>\n",
       "    <tr>\n",
       "      <th>0%</th>\n",
       "      <td>150.000000</td>\n",
       "      <td>0.000000</td>\n",
       "      <td>9.000000</td>\n",
       "      <td>36.000000</td>\n",
       "      <td>0.000000</td>\n",
       "    </tr>\n",
       "    <tr>\n",
       "      <th>10%</th>\n",
       "      <td>2243.200000</td>\n",
       "      <td>0.000000</td>\n",
       "      <td>71.300000</td>\n",
       "      <td>300.000000</td>\n",
       "      <td>0.000000</td>\n",
       "    </tr>\n",
       "    <tr>\n",
       "      <th>20%</th>\n",
       "      <td>2623.000000</td>\n",
       "      <td>0.000000</td>\n",
       "      <td>96.000000</td>\n",
       "      <td>360.000000</td>\n",
       "      <td>1.000000</td>\n",
       "    </tr>\n",
       "    <tr>\n",
       "      <th>30%</th>\n",
       "      <td>3068.300000</td>\n",
       "      <td>0.000000</td>\n",
       "      <td>109.900000</td>\n",
       "      <td>360.000000</td>\n",
       "      <td>1.000000</td>\n",
       "    </tr>\n",
       "    <tr>\n",
       "      <th>40%</th>\n",
       "      <td>3411.400000</td>\n",
       "      <td>0.000000</td>\n",
       "      <td>118.000000</td>\n",
       "      <td>360.000000</td>\n",
       "      <td>1.000000</td>\n",
       "    </tr>\n",
       "    <tr>\n",
       "      <th>50%</th>\n",
       "      <td>3815.000000</td>\n",
       "      <td>1105.500000</td>\n",
       "      <td>128.000000</td>\n",
       "      <td>360.000000</td>\n",
       "      <td>1.000000</td>\n",
       "    </tr>\n",
       "    <tr>\n",
       "      <th>60%</th>\n",
       "      <td>4353.200000</td>\n",
       "      <td>1666.000000</td>\n",
       "      <td>135.800000</td>\n",
       "      <td>360.000000</td>\n",
       "      <td>1.000000</td>\n",
       "    </tr>\n",
       "    <tr>\n",
       "      <th>70%</th>\n",
       "      <td>5185.600000</td>\n",
       "      <td>2034.100000</td>\n",
       "      <td>155.000000</td>\n",
       "      <td>360.000000</td>\n",
       "      <td>1.000000</td>\n",
       "    </tr>\n",
       "    <tr>\n",
       "      <th>80%</th>\n",
       "      <td>6299.800000</td>\n",
       "      <td>2500.000000</td>\n",
       "      <td>178.800000</td>\n",
       "      <td>360.000000</td>\n",
       "      <td>1.000000</td>\n",
       "    </tr>\n",
       "    <tr>\n",
       "      <th>90%</th>\n",
       "      <td>9529.000000</td>\n",
       "      <td>3666.700000</td>\n",
       "      <td>225.000000</td>\n",
       "      <td>360.000000</td>\n",
       "      <td>1.000000</td>\n",
       "    </tr>\n",
       "    <tr>\n",
       "      <th>max</th>\n",
       "      <td>81000.000000</td>\n",
       "      <td>33837.000000</td>\n",
       "      <td>700.000000</td>\n",
       "      <td>480.000000</td>\n",
       "      <td>1.000000</td>\n",
       "    </tr>\n",
       "  </tbody>\n",
       "</table>\n",
       "</div>"
      ],
      "text/plain": [
       "       ApplicantIncome  CoapplicantIncome  LoanAmount  Loan_Amount_Term  \\\n",
       "count       564.000000         564.000000  564.000000        564.000000   \n",
       "mean       5466.436170        1530.448440  144.452128        342.595745   \n",
       "std        6271.344106        2471.721359   81.805055         63.838715   \n",
       "min         150.000000           0.000000    9.000000         36.000000   \n",
       "0%          150.000000           0.000000    9.000000         36.000000   \n",
       "10%        2243.200000           0.000000   71.300000        300.000000   \n",
       "20%        2623.000000           0.000000   96.000000        360.000000   \n",
       "30%        3068.300000           0.000000  109.900000        360.000000   \n",
       "40%        3411.400000           0.000000  118.000000        360.000000   \n",
       "50%        3815.000000        1105.500000  128.000000        360.000000   \n",
       "60%        4353.200000        1666.000000  135.800000        360.000000   \n",
       "70%        5185.600000        2034.100000  155.000000        360.000000   \n",
       "80%        6299.800000        2500.000000  178.800000        360.000000   \n",
       "90%        9529.000000        3666.700000  225.000000        360.000000   \n",
       "max       81000.000000       33837.000000  700.000000        480.000000   \n",
       "\n",
       "       Credit_History  \n",
       "count      564.000000  \n",
       "mean         0.842199  \n",
       "std          0.364878  \n",
       "min          0.000000  \n",
       "0%           0.000000  \n",
       "10%          0.000000  \n",
       "20%          1.000000  \n",
       "30%          1.000000  \n",
       "40%          1.000000  \n",
       "50%          1.000000  \n",
       "60%          1.000000  \n",
       "70%          1.000000  \n",
       "80%          1.000000  \n",
       "90%          1.000000  \n",
       "max          1.000000  "
      ]
     },
     "execution_count": 17,
     "metadata": {},
     "output_type": "execute_result"
    }
   ],
   "source": [
    "# Detect range of values for each column of the dataframe\n",
    "df1.describe([x*0.1 for x in range(10)])"
   ]
  },
  {
   "cell_type": "code",
   "execution_count": 18,
   "metadata": {},
   "outputs": [],
   "source": [
    "# Filter the DataFrame to include only rows where the specified features are between their respective 10th and 90th percentiles\n",
    "df2 = df1[\n",
    "    df1['ApplicantIncome'].between(df1['ApplicantIncome'].quantile(0.1), df1['ApplicantIncome'].quantile(0.9)) &\n",
    "    df1['CoapplicantIncome'].between(df1['CoapplicantIncome'].quantile(0.1), df1['CoapplicantIncome'].quantile(0.9)) &\n",
    "    df1['LoanAmount'].between(df1['LoanAmount'].quantile(0.1), df1['LoanAmount'].quantile(0.9)) &\n",
    "    df1['Loan_Amount_Term'].between(df1['Loan_Amount_Term'].quantile(0.1), df1['Loan_Amount_Term'].quantile(0.9))\n",
    "]\n",
    "\n"
   ]
  },
  {
   "cell_type": "markdown",
   "metadata": {},
   "source": [
    "-----------------------------------\n",
    "# 6. Evaluation Metrics for classification problem\n",
    "-----------------------------------"
   ]
  },
  {
   "cell_type": "code",
   "execution_count": 19,
   "metadata": {},
   "outputs": [
    {
     "ename": "SyntaxError",
     "evalue": "(unicode error) 'unicodeescape' codec can't decode bytes in position 673-674: truncated \\UXXXXXXXX escape (2546159380.py, line 2)",
     "output_type": "error",
     "traceback": [
      "\u001b[1;36m  Cell \u001b[1;32mIn[19], line 2\u001b[1;36m\u001b[0m\n\u001b[1;33m    \"\"\"\u001b[0m\n\u001b[1;37m    ^\u001b[0m\n\u001b[1;31mSyntaxError\u001b[0m\u001b[1;31m:\u001b[0m (unicode error) 'unicodeescape' codec can't decode bytes in position 673-674: truncated \\UXXXXXXXX escape\n"
     ]
    }
   ],
   "source": [
    "#Evaluation Metrics for classification problem \n",
    "\"\"\"\n",
    "Evaluation Metrics for Classification\n",
    "The process of model building is not complete without the evaluation of model performance. Suppose we have the predictions from the model, how can we decide whether the predictions are accurate? We calculate the distance between the predictions and actual values. The lesser this distance more accurate will be the predictions. Since this is a classification problem, we can evaluate our models using any one of the following evaluation metrics:\n",
    " \n",
    "•   Accuracy:-  Let us understand it using the confusion matrix which is a tabular representation of Actual vs Predicted values. This is what a confusion matrix looks like:\n",
    " \n",
    "C:\\Users\\Henko\\Documents\\MLG382\\MLG_Project1\\MLG382_Project1_GroupB\\Images\\Accuracy.png\n",
    " \n",
    "•   True Positive - Targets which are actually true(Y) and we have predicted them as true(Y)\n",
    "•   True Negative - Targets that are actually false(N) and we have predicted them as false(N)\n",
    "•   False Positive - Targets that are actually false(N) but we have predicted them as true(T)\n",
    "•   False Negative - Targets that are actually true(T) but we have predicted them as false(N)\n",
    "Using these values, we can calculate the accuracy of the model. The accuracy is given by:\n",
    " \n",
    "C:\\Users\\Henko\\Documents\\MLG382\\MLG_Project1\\MLG382_Project1_GroupB\\Images\\Calculate_Accuracy.png\n",
    " \n",
    "•   Precision:-: It is a measure of correctness achieved in true prediction i.e. of observations labeled as true, how many are actually labeled true\n",
    "                                   Precision = TP / (TP + FP)\n",
    "•   Recall(Sensitivity):-  It is a measure of actual observations which are predicted correctly i.e. how many observations of true class are labeled correctly. It is also known as ‘Sensitivity’.\n",
    "                                          Recall = TP / (TP + FN)\n",
    "•   Specificity:-  It is a measure of how many observations of false class are labeled correctly.\n",
    "                                         Specificity = TN / (TN + FP)\n",
    "   Specificity and Sensitivity play a crucial role in deriving the ROC curve.\n",
    "•   ROC curve\n",
    "•   Receiver Operating Characteristic(ROC) summarizes the model’s performance by evaluating the trade-offs between true positive rate (sensitivity) and false-positive rate(1- specificity).\n",
    "•   The area under the curve (AUC), referred to as an index of accuracy(A) or concordance index, is a perfect performance metric for the ROC curve. Higher the area under the curve, the better the prediction power of the model.\n",
    "This is what a ROC curve looks like:\n",
    " \n",
    "C:\\Users\\Henko\\Documents\\MLG382\\MLG_Project1\\MLG382_Project1_GroupB\\Images\\ROC_Graph.png\n",
    " \n",
    "•   The area of this curve measures the ability of the model to correctly classify true positives and true negatives. We want our model to predict the true classes as true and false classes as false.\n",
    "•   So it can be said that we want the true positive rate to be 1. But we are not concerned with the true positive rate only but the false positive rate too. For example in our problem, we are not only concerned about predicting the Y classes as Y but we also want N classes to be predicted as N.\n",
    "•   We want to increase the area of the curve which will be maximum for classes 2,3,4 and 5 in the above example.\n",
    "•   For class 1 when the false positive rate is 0.2, the true positive rate is around 0.6. But for class 2 the true positive rate is 1 at the same false-positive rate. So, the AUC for class 2 will be much more as compared to the AUC for class 1. So, the model for class 2 will be better.\n",
    "•   The class 2,3,4 and 5 models will predict more accurately as compared to the class 0 and 1 models as the AUC is more for those classes.\n",
    " \n",
    " \n",
    "\"\"\""
   ]
  },
  {
   "cell_type": "markdown",
   "metadata": {},
   "source": [
    "-----------------------------------\n",
    "# 7. Model building: part 1 \n",
    "### (Apply Deep Learning classification algorithm without step 8)\n",
    "-----------------------------------"
   ]
  },
  {
   "cell_type": "code",
   "execution_count": null,
   "metadata": {},
   "outputs": [],
   "source": [
    "def prepare_data():\n",
    "    # Load the dataset\n",
    "    df = pd.read_csv(\"./DataSheet/raw_data.csv\")\n",
    "\n",
    "    # Fill missing values in categorical features with mode\n",
    "    categorical_features = ['Gender', 'Married', 'Dependents', 'Self_Employed', 'Loan_Amount_Term']\n",
    "    for feature in categorical_features:\n",
    "        df[feature] = df[feature].fillna(df[feature].mode()[0])\n",
    "\n",
    "    # Impute numerical feature (LoanAmount) with median\n",
    "    df['LoanAmount'] = df['LoanAmount'].fillna(df['LoanAmount'].median())\n",
    "\n",
    "    # Drop rows with missing values for Credit_History\n",
    "    df.dropna(subset=['Credit_History'], inplace=True)\n",
    "\n",
    "    # Drop rows based on 'Loan_ID' column\n",
    "    df.drop(columns=['Loan_ID'], inplace=True)\n",
    "\n",
    "    # Filtering data based on quantiles\n",
    "    df = df[\n",
    "        df['ApplicantIncome'].between(df['ApplicantIncome'].quantile(0.1), df['ApplicantIncome'].quantile(0.9)) &\n",
    "        df['CoapplicantIncome'].between(df['CoapplicantIncome'].quantile(0.1), df['CoapplicantIncome'].quantile(0.9)) &\n",
    "        df['LoanAmount'].between(df['LoanAmount'].quantile(0.1), df['LoanAmount'].quantile(0.9)) &\n",
    "        df['Loan_Amount_Term'].between(df['Loan_Amount_Term'].quantile(0.1), df['Loan_Amount_Term'].quantile(0.9))\n",
    "    ]\n",
    "\n",
    "    return df"
   ]
  },
  {
   "cell_type": "code",
   "execution_count": null,
   "metadata": {},
   "outputs": [
    {
     "name": "stdout",
     "output_type": "stream",
     "text": [
      "Accuracy: 87.30%\n"
     ]
    }
   ],
   "source": [
    "# Prepare the data\n",
    "df = prepare_data()\n",
    "\n",
    "# Splitting features and target variable\n",
    "X = df.drop(columns=['Loan_Status'])\n",
    "y = df['Loan_Status']\n",
    "\n",
    "# Splitting the dataset into training and testing sets\n",
    "X_train, X_test, y_train, y_test = train_test_split(X, y, test_size=0.2, random_state=42)\n",
    "\n",
    "# Create a pipeline with one-hot encoding, standard scaling, and FNN\n",
    "model_1 = make_pipeline(\n",
    "    OneHotEncoder(handle_unknown='ignore'),  # One-hot encode categorical features\n",
    "    \n",
    "    MLPClassifier(hidden_layer_sizes=(50, 50), max_iter=500, random_state=42)  # FNN with 2 hidden layers\n",
    ")\n",
    "\n",
    "# Train the model\n",
    "model_1.fit(X_train, y_train)\n",
    "\n",
    "# Evaluate the model\n",
    "accuracy = model_1.score(X_test, y_test)\n",
    "print(\"Accuracy: {:.2f}%\".format(accuracy * 100))\n",
    "\n",
    "\n"
   ]
  },
  {
   "cell_type": "markdown",
   "metadata": {},
   "source": [
    "### hyper-parameter "
   ]
  },
  {
   "cell_type": "code",
   "execution_count": null,
   "metadata": {},
   "outputs": [
    {
     "name": "stderr",
     "output_type": "stream",
     "text": [
      "c:\\Users\\Nadrian\\AppData\\Local\\Programs\\Python\\Python312\\Lib\\site-packages\\sklearn\\neural_network\\_multilayer_perceptron.py:698: UserWarning:\n",
      "\n",
      "Training interrupted by user.\n",
      "\n"
     ]
    },
    {
     "name": "stdout",
     "output_type": "stream",
     "text": [
      "Best Parameters: {'mlpclassifier__alpha': 0.0001, 'mlpclassifier__hidden_layer_sizes': (50, 50), 'mlpclassifier__max_iter': 500}\n"
     ]
    }
   ],
   "source": [
    "# Prepare the data\n",
    "df = prepare_data()\n",
    "\n",
    "# Splitting features and target variable\n",
    "X = df.drop(columns=['Loan_Status'])\n",
    "y = df['Loan_Status']\n",
    "\n",
    "# Splitting the dataset into training and testing sets\n",
    "X_train, X_test, y_train, y_test = train_test_split(X, y, test_size=0.2, random_state=42)\n",
    "\n",
    "# Create a pipeline with one-hot encoding\n",
    "pipeline = make_pipeline(\n",
    "    OneHotEncoder(handle_unknown='ignore'),  # One-hot encode categorical features\n",
    "    StandardScaler(with_mean=False),  # Do not center sparse matrices\n",
    "    MLPClassifier(random_state=42)  # FNN with default hyper-parameters\n",
    ")\n",
    "\n",
    "# Define hyper-parameter grid\n",
    "param_grid = {\n",
    "    'mlpclassifier__hidden_layer_sizes': [(50,), (100,), (50, 50), (100, 50)],\n",
    "    'mlpclassifier__alpha': [0.0001, 0.001, 0.01],\n",
    "    'mlpclassifier__max_iter': [500, 1000, 1500],\n",
    "}\n",
    "\n",
    "# Perform grid search\n",
    "grid_search = GridSearchCV(pipeline, param_grid, cv=5, scoring='accuracy')\n",
    "grid_search.fit(X_train, y_train)\n",
    "\n",
    "# Get best parameters and best score\n",
    "best_params = grid_search.best_params_\n",
    "best_score = grid_search.best_score_\n",
    "\n",
    "print(\"Best Parameters:\", best_params)\n"
   ]
  },
  {
   "cell_type": "markdown",
   "metadata": {},
   "source": [
    "-----------------------------------\n",
    "# 8. Feature engineering\n",
    "-----------------------------------"
   ]
  },
  {
   "cell_type": "code",
   "execution_count": null,
   "metadata": {},
   "outputs": [],
   "source": [
    "#  Feature engineering\n",
    "\n",
    "# Create 'Total_Income'\n",
    "df2['Total_Income'] = df2['ApplicantIncome'] + df2['CoapplicantIncome']\n",
    "\n",
    "# Calculate 'Loan to Income Ratio'\n",
    "df2['Loan_to_Income_Ratio'] = df2['LoanAmount'] / df2['Total_Income']\n",
    "\n",
    "# Loan_Percentage: Calculate the percentage of LoanAmount with respect to the TotalIncome\n",
    "df2['Loan_Percentage'] = (df2['LoanAmount'] / df2['TotalIncome']) * 100\n",
    "\n",
    "\n"
   ]
  },
  {
   "cell_type": "markdown",
   "metadata": {},
   "source": [
    "-----------------------------------\n",
    "# 9. Model building: part 2\n",
    "### (Apply Deep Learning classification algorithm with step 8)\n",
    "-----------------------------------"
   ]
  },
  {
   "cell_type": "code",
   "execution_count": null,
   "metadata": {},
   "outputs": [],
   "source": [
    "# Function that create the prepared data with  the cleaning as well as  feature engineering \n",
    "\n",
    "def prepare_data_NF():\n",
    "    # Load the dataset\n",
    "    df = pd.read_csv(\"./DataSheet/raw_data.csv\")\n",
    "\n",
    "    # Fill missing values in categorical features with mode\n",
    "    categorical_features = ['Gender', 'Married', 'Dependents', 'Self_Employed', 'Loan_Amount_Term']\n",
    "    for feature in categorical_features:\n",
    "        df[feature] = df[feature].fillna(df[feature].mode()[0])\n",
    "\n",
    "    # Impute numerical feature (LoanAmount) with median\n",
    "    df['LoanAmount'] = df['LoanAmount'].fillna(df['LoanAmount'].median())\n",
    "\n",
    "    # Create 'Total_Income'\n",
    "    df['Total_Income'] = df['ApplicantIncome'] + df['CoapplicantIncome']\n",
    "\n",
    "    # Calculate 'Loan to Income Ratio'\n",
    "    df['Loan_to_Income_Ratio'] = df['LoanAmount'] / df['Total_Income']\n",
    "\n",
    "    # Loan_Percentage: Calculate the percentage of LoanAmount with respect to the TotalIncome\n",
    "    df['Loan_Percentage'] = (df['LoanAmount'] / df['Total_Income']) * 100\n",
    "\n",
    "    # Drop rows with missing values for Credit_History\n",
    "    df.dropna(subset=['Credit_History'], inplace=True)\n",
    "\n",
    "    # Drop rows based on 'Loan_ID' column\n",
    "    df.drop(columns=['Loan_ID'], inplace=True)\n",
    "\n",
    "    # Filtering data based on quantiles\n",
    "    df = df[\n",
    "        df['ApplicantIncome'].between(df['ApplicantIncome'].quantile(0.1), df['ApplicantIncome'].quantile(0.9)) &\n",
    "        df['CoapplicantIncome'].between(df['CoapplicantIncome'].quantile(0.1), df['CoapplicantIncome'].quantile(0.9)) &\n",
    "        df['LoanAmount'].between(df['LoanAmount'].quantile(0.1), df['LoanAmount'].quantile(0.9)) &\n",
    "        df['Loan_Amount_Term'].between(df['Loan_Amount_Term'].quantile(0.1), df['Loan_Amount_Term'].quantile(0.9))\n",
    "    ]\n",
    "\n",
    "    \n",
    "\n",
    "    return df"
   ]
  },
  {
   "cell_type": "code",
   "execution_count": null,
   "metadata": {},
   "outputs": [
    {
     "name": "stdout",
     "output_type": "stream",
     "text": [
      "Accuracy: 88.89%\n"
     ]
    }
   ],
   "source": [
    "# Model building\n",
    "\n",
    "# Prepare the data\n",
    "df = prepare_data_NF()\n",
    "\n",
    "# Splitting features and target variable\n",
    "X = df.drop(columns=['Loan_Status'])\n",
    "y = df['Loan_Status']\n",
    "\n",
    "# Splitting the dataset into training and testing sets\n",
    "X_train, X_test, y_train, y_test = train_test_split(X, y, test_size=0.2, random_state=42)\n",
    "\n",
    "# Create a pipeline with one-hot encoding, standard scaling, and FNN\n",
    "model_2 = make_pipeline(\n",
    "    OneHotEncoder(handle_unknown='ignore'),  # One-hot encode categorical features\n",
    "    \n",
    "    MLPClassifier(hidden_layer_sizes=(50, 50), max_iter=500, random_state=42)  # FNN with 2 hidden layers\n",
    ")\n",
    "\n",
    "# Train the model\n",
    "model_2.fit(X_train, y_train)\n",
    "\n",
    "# Evaluate the model\n",
    "accuracy = model_2.score(X_test, y_test)\n",
    "print(\"Accuracy: {:.2f}%\".format(accuracy * 100))\n"
   ]
  },
  {
   "cell_type": "markdown",
   "metadata": {},
   "source": [
    "### Feature Importance"
   ]
  },
  {
   "cell_type": "code",
   "execution_count": null,
   "metadata": {},
   "outputs": [
    {
     "name": "stdout",
     "output_type": "stream",
     "text": [
      "Feature Importance:\n",
      "Loan_to_Income_Ratio: 481.3869\n",
      "Loan_Percentage: 478.0212\n",
      "Total_Income: 441.7797\n",
      "ApplicantIncome: 423.5700\n",
      "CoapplicantIncome: 226.0042\n",
      "LoanAmount: 191.2628\n",
      "Dependents: 8.0798\n",
      "Property_Area: 6.0644\n",
      "Credit_History: 5.9626\n",
      "Self_Employed: 4.6808\n",
      "Education: 4.6296\n",
      "Gender: 4.4267\n",
      "Married: 4.2189\n",
      "Loan_Amount_Term: 3.8671\n"
     ]
    }
   ],
   "source": [
    "# Extracting weights from the trained MLP model\n",
    "weights = model_2.named_steps['mlpclassifier'].coefs_\n",
    "\n",
    "# Calculate feature importance\n",
    "feature_importance = np.abs(weights[0]).sum(axis=1)  # Summing weights of input layer\n",
    "\n",
    "# Code to map feature names to importance values (assuming OneHotEncoder was used)\n",
    "ohe = model_2.named_steps['onehotencoder']\n",
    "categorical_feature_names = ohe.get_feature_names_out(input_features=X_train.columns)\n",
    "\n",
    "# Mapping importance values to original categorical feature names\n",
    "original_feature_importance = {}\n",
    "for original_feature in X_train.columns:\n",
    "    indices = [i for i, feature_name in enumerate(categorical_feature_names) if feature_name.startswith(original_feature)]\n",
    "    original_feature_importance[original_feature] = feature_importance[indices].sum()\n",
    "\n",
    "# Sorting features by importance\n",
    "sorted_features = sorted(original_feature_importance.items(), key=lambda x: x[1], reverse=True)\n",
    "\n",
    "# Printing sorted feature importance\n",
    "print(\"Feature Importance:\")\n",
    "for feature, importance in sorted_features:\n",
    "    print(f\"{feature}: {importance:.4f}\")"
   ]
  },
  {
   "cell_type": "code",
   "execution_count": null,
   "metadata": {},
   "outputs": [
    {
     "ename": "AttributeError",
     "evalue": "'list' object has no attribute 'nlargest'",
     "output_type": "error",
     "traceback": [
      "\u001b[1;31m---------------------------------------------------------------------------\u001b[0m",
      "\u001b[1;31mAttributeError\u001b[0m                            Traceback (most recent call last)",
      "Cell \u001b[1;32mIn[9], line 2\u001b[0m\n\u001b[0;32m      1\u001b[0m \u001b[38;5;66;03m# Selecting top 5 most important features\u001b[39;00m\n\u001b[1;32m----> 2\u001b[0m top_features \u001b[38;5;241m=\u001b[39m \u001b[43msorted_features\u001b[49m\u001b[38;5;241;43m.\u001b[39;49m\u001b[43mnlargest\u001b[49m(\u001b[38;5;241m5\u001b[39m, \u001b[38;5;124m'\u001b[39m\u001b[38;5;124mImportance\u001b[39m\u001b[38;5;124m'\u001b[39m)\n\u001b[0;32m      4\u001b[0m \u001b[38;5;66;03m# Scaling up the importance values and converting to percentage\u001b[39;00m\n\u001b[0;32m      5\u001b[0m top_features[\u001b[38;5;124m'\u001b[39m\u001b[38;5;124mImportance\u001b[39m\u001b[38;5;124m'\u001b[39m] \u001b[38;5;241m*\u001b[39m\u001b[38;5;241m=\u001b[39m scaling_factor\n",
      "\u001b[1;31mAttributeError\u001b[0m: 'list' object has no attribute 'nlargest'"
     ]
    }
   ],
   "source": [
    "# Selecting top 5 most important features\n",
    "top_features = df_feature_importance.nlargest(5, 'Importance')\n",
    "\n",
    "# Scaling up the importance values and converting to percentage\n",
    "top_features['Importance'] *= scaling_factor\n",
    "total_importance = top_features['Importance'].sum()\n",
    "top_features['Importance'] = (top_features['Importance'] / total_importance) * 100\n",
    "\n",
    "# Plotting the top 5 most important features with importance expressed as percentage\n",
    "plt.figure(figsize=(8, 6))\n",
    "plt.barh(top_features['Feature'], top_features['Importance'], color='skyblue')\n",
    "plt.xlabel('Importance (%)')\n",
    "plt.ylabel('Feature')\n",
    "plt.title('Top 5 Feature Importance')\n",
    "plt.gca().invert_yaxis()  # Invert y-axis for better visualization\n",
    "\n",
    "# Adding data labels\n",
    "for index, value in enumerate(top_features['Importance']):\n",
    "    plt.text(value, index, f'{value:.2f}%', va='center')\n",
    "\n",
    "plt.tight_layout()\n",
    "plt.show()"
   ]
  },
  {
   "cell_type": "code",
   "execution_count": null,
   "metadata": {},
   "outputs": [],
   "source": [
    "# Convert original feature importance dictionary to DataFrame\n",
    "df_original_feature_importance = pd.DataFrame(original_feature_importance.items(), columns=['Feature', 'Importance'])\n",
    "\n",
    "# Save feature importances to a CSV file\n",
    "df_original_feature_importance.to_csv('./artifacts/feature_importances.csv', index=False)"
   ]
  },
  {
   "cell_type": "code",
   "execution_count": null,
   "metadata": {},
   "outputs": [
    {
     "data": {
      "text/plain": [
       "['model_2.pkl']"
      ]
     },
     "execution_count": 27,
     "metadata": {},
     "output_type": "execute_result"
    }
   ],
   "source": [
    "# Save the trained model using joblib\n",
    "\n",
    "'''\n",
    "joblib.dump(model_1, 'model_1.pkl')\n",
    "joblib.dump(model_2, 'model_2.pkl')\n",
    "'''"
   ]
  },
  {
   "cell_type": "markdown",
   "metadata": {},
   "source": [
    "### Predicting the validation file"
   ]
  },
  {
   "cell_type": "code",
   "execution_count": null,
   "metadata": {},
   "outputs": [
    {
     "name": "stdout",
     "output_type": "stream",
     "text": [
      "['Y' 'Y' 'Y' 'N' 'Y' 'Y' 'Y' 'Y' 'Y' 'Y' 'Y' 'Y' 'Y' 'Y' 'Y' 'N' 'Y' 'Y'\n",
      " 'Y' 'Y' 'Y' 'Y' 'Y' 'Y' 'Y' 'Y' 'Y' 'Y' 'Y' 'Y' 'Y' 'N' 'Y' 'Y' 'Y' 'Y'\n",
      " 'Y' 'N' 'Y' 'Y' 'N' 'Y' 'Y' 'Y' 'N' 'Y' 'Y' 'Y' 'Y' 'N' 'Y' 'Y' 'Y' 'Y'\n",
      " 'Y' 'Y' 'Y' 'Y' 'Y' 'Y' 'Y' 'Y' 'Y' 'Y' 'Y' 'Y' 'Y' 'Y' 'Y' 'Y' 'N' 'N'\n",
      " 'Y' 'Y' 'Y' 'Y' 'Y' 'N' 'Y' 'Y' 'N' 'Y' 'N' 'Y' 'Y' 'Y' 'Y' 'Y' 'N' 'Y'\n",
      " 'Y' 'Y' 'Y' 'Y' 'Y' 'Y' 'N' 'N' 'Y' 'N' 'N' 'Y' 'Y' 'Y' 'Y' 'Y' 'Y' 'Y'\n",
      " 'N' 'Y' 'Y' 'Y' 'Y' 'N' 'N' 'Y' 'Y' 'N' 'Y' 'Y' 'N' 'Y' 'Y' 'Y' 'Y' 'N'\n",
      " 'Y' 'Y' 'Y' 'Y' 'N' 'Y' 'Y' 'Y' 'Y' 'Y' 'Y' 'Y' 'Y' 'N' 'Y' 'Y' 'N' 'Y'\n",
      " 'Y' 'Y' 'Y' 'Y' 'N' 'Y' 'Y' 'Y' 'Y' 'N' 'Y' 'Y' 'N' 'Y' 'Y' 'Y' 'Y' 'Y'\n",
      " 'Y' 'Y' 'Y' 'Y' 'Y' 'Y' 'Y' 'Y' 'Y' 'Y' 'Y' 'N' 'Y' 'Y' 'N' 'N' 'Y' 'Y'\n",
      " 'Y' 'Y' 'Y' 'Y' 'Y' 'Y' 'Y']\n"
     ]
    }
   ],
   "source": [
    "\n",
    "\n",
    "def predict_data(data):\n",
    "    # Load the dataset\n",
    "    df = data\n",
    "\n",
    "    # Fill missing values in categorical features with mode\n",
    "    categorical_features = ['Gender', 'Married', 'Dependents', 'Self_Employed', 'Loan_Amount_Term']\n",
    "    for feature in categorical_features:\n",
    "        df[feature] = df[feature].fillna(df[feature].mode()[0])\n",
    "\n",
    "    # Impute numerical feature (LoanAmount) with median\n",
    "    df['LoanAmount'] = df['LoanAmount'].fillna(df['LoanAmount'].median())\n",
    "\n",
    "    # Create 'Total_Income'\n",
    "    df['Total_Income'] = df['ApplicantIncome'] + df['CoapplicantIncome']\n",
    "\n",
    "    # Calculate 'Loan to Income Ratio'\n",
    "    df['Loan_to_Income_Ratio'] = df['LoanAmount'] / df['Total_Income']\n",
    "\n",
    "    # Loan_Percentage: Calculate the percentage of LoanAmount with respect to the TotalIncome\n",
    "    df['Loan_Percentage'] = (df['LoanAmount'] / df['Total_Income']) * 100\n",
    "\n",
    "    # Drop rows with missing values for Credit_History\n",
    "    df.dropna(subset=['Credit_History'], inplace=True)\n",
    "\n",
    "    # Drop rows based on 'Loan_ID' column\n",
    "    df.drop(columns=['Loan_ID'], inplace=True)\n",
    "\n",
    "    # Filtering data based on quantiles\n",
    "    df = df[\n",
    "        df['ApplicantIncome'].between(df['ApplicantIncome'].quantile(0.1), df['ApplicantIncome'].quantile(0.9)) &\n",
    "        df['CoapplicantIncome'].between(df['CoapplicantIncome'].quantile(0.1), df['CoapplicantIncome'].quantile(0.9)) &\n",
    "        df['LoanAmount'].between(df['LoanAmount'].quantile(0.1), df['LoanAmount'].quantile(0.9)) &\n",
    "        df['Loan_Amount_Term'].between(df['Loan_Amount_Term'].quantile(0.1), df['Loan_Amount_Term'].quantile(0.9))\n",
    "    ]\n",
    "\n",
    "    \n",
    "\n",
    "    return df\n",
    "\n",
    "predicts = model_2.predict(predict_data(pd.read_csv('./DataSheet/validation.csv')))\n",
    "print(predicts)\n",
    "\n"
   ]
  },
  {
   "cell_type": "code",
   "execution_count": null,
   "metadata": {},
   "outputs": [
    {
     "data": {
      "text/plain": [
       "['predictions.csv']"
      ]
     },
     "execution_count": 30,
     "metadata": {},
     "output_type": "execute_result"
    }
   ],
   "source": [
    "# Save the predictions  using joblib\n",
    "# joblib.dump(predicts, 'predictions.csv')\n"
   ]
  },
  {
   "cell_type": "markdown",
   "metadata": {},
   "source": [
    "-----------------------------------\n",
    "# 10. Model deployment\n",
    "-----------------------------------"
   ]
  },
  {
   "cell_type": "code",
   "execution_count": null,
   "metadata": {},
   "outputs": [
    {
     "data": {
      "text/html": [
       "\n",
       "        <iframe\n",
       "            width=\"100%\"\n",
       "            height=\"650\"\n",
       "            src=\"http://127.0.0.1:8050/\"\n",
       "            frameborder=\"0\"\n",
       "            allowfullscreen\n",
       "            \n",
       "        ></iframe>\n",
       "        "
      ],
      "text/plain": [
       "<IPython.lib.display.IFrame at 0x2d232c4c9b0>"
      ]
     },
     "metadata": {},
     "output_type": "display_data"
    },
    {
     "name": "stdout",
     "output_type": "stream",
     "text": [
      "---------------------------------------------------------------------------\n",
      "ValueError                                Traceback (most recent call last)\n",
      "Cell In[12], line 187, in update_output(\n",
      "    n_clicks=0,\n",
      "    gender='Male',\n",
      "    married='Yes',\n",
      "    dependents='0',\n",
      "    education='Graduate',\n",
      "    self_employed='No',\n",
      "    applicant_income=5000,\n",
      "    coapplicant_income=0,\n",
      "    loan_amount=100000.0,\n",
      "    loan_amount_term=360.0,\n",
      "    credit_history=1.0,\n",
      "    property_area='Urban'\n",
      ")\n",
      "    184 df['Loan_Percentage'] = (df['LoanAmount'] / df['Total_Income']) * 100\n",
      "    186 # Predict loan eligibility\n",
      "--> 187 prediction = model.predict(df[['Gender', 'Married', 'Dependents', 'Education', 'Self_Employed', 'ApplicantIncome', 'CoapplicantIncome', 'LoanAmount', 'Loan_Amount_Term', 'Credit_History', 'Property_Area', 'Total_Income', 'Loan_to_Income_Ratio', 'Loan_Percentage']])\n",
      "        df =   Gender Married Dependents Education Self_Employed  ApplicantIncome  \\\n",
      "0   Male     Yes          0  Graduate            No             5000   \n",
      "\n",
      "   CoapplicantIncome  LoanAmount  Loan_Amount_Term  Credit_History  \\\n",
      "0                  0    100000.0             360.0             1.0   \n",
      "\n",
      "  Property_Area  Total_Income  Loan_to_Income_Ratio  Loan_Percentage  \n",
      "0         Urban          5000                  20.0           2000.0  \n",
      "        model = Pipeline(steps=[('onehotencoder', OneHotEncoder(handle_unknown='ignore')),\n",
      "                ('mlpclassifier',\n",
      "                 MLPClassifier(hidden_layer_sizes=(50, 50), max_iter=500,\n",
      "                               random_state=42))])\n",
      "    190 if prediction[0] == 'Y':\n",
      "    191     return html.Span('Congratulations! You are eligible for a loan.', style={'color': 'green'})\n",
      "\n",
      "File c:\\Users\\Nadrian\\AppData\\Local\\Programs\\Python\\Python312\\Lib\\site-packages\\sklearn\\pipeline.py:602, in Pipeline.predict(\n",
      "    self=Pipeline(steps=[('onehotencoder', OneHotEncoder(...                              random_state=42))]),\n",
      "    X=  Gender Married Dependents Education Self_Emplo...    5000                  20.0           2000.0  ,\n",
      "    **params={}\n",
      ")\n",
      "    600 if not _routing_enabled():\n",
      "    601     for _, name, transform in self._iter(with_final=False):\n",
      "--> 602         Xt = transform.transform(Xt)\n",
      "        Xt =   Gender Married Dependents Education Self_Employed  ApplicantIncome  \\\n",
      "0   Male     Yes          0  Graduate            No             5000   \n",
      "\n",
      "   CoapplicantIncome  LoanAmount  Loan_Amount_Term  Credit_History  \\\n",
      "0                  0    100000.0             360.0             1.0   \n",
      "\n",
      "  Property_Area  Total_Income  Loan_to_Income_Ratio  Loan_Percentage  \n",
      "0         Urban          5000                  20.0           2000.0  \n",
      "        transform = OneHotEncoder(handle_unknown='ignore')\n",
      "    603     return self.steps[-1][1].predict(Xt, **params)\n",
      "    605 # metadata routing enabled\n",
      "\n",
      "File c:\\Users\\Nadrian\\AppData\\Local\\Programs\\Python\\Python312\\Lib\\site-packages\\sklearn\\utils\\_set_output.py:295, in _wrap_method_output.<locals>.wrapped(\n",
      "    self=OneHotEncoder(handle_unknown='ignore'),\n",
      "    X=  Gender Married Dependents Education Self_Emplo...    5000                  20.0           2000.0  ,\n",
      "    *args=(),\n",
      "    **kwargs={}\n",
      ")\n",
      "    293 @wraps(f)\n",
      "    294 def wrapped(self, X, *args, **kwargs):\n",
      "--> 295     data_to_wrap = f(self, X, *args, **kwargs)\n",
      "        f = <function OneHotEncoder.transform at 0x000002D23129FBA0>\n",
      "        self = OneHotEncoder(handle_unknown='ignore')\n",
      "        X =   Gender Married Dependents Education Self_Employed  ApplicantIncome  \\\n",
      "0   Male     Yes          0  Graduate            No             5000   \n",
      "\n",
      "   CoapplicantIncome  LoanAmount  Loan_Amount_Term  Credit_History  \\\n",
      "0                  0    100000.0             360.0             1.0   \n",
      "\n",
      "  Property_Area  Total_Income  Loan_to_Income_Ratio  Loan_Percentage  \n",
      "0         Urban          5000                  20.0           2000.0  \n",
      "        args = ()\n",
      "        kwargs = {}\n",
      "    296     if isinstance(data_to_wrap, tuple):\n",
      "    297         # only wrap the first output for cross decomposition\n",
      "    298         return_tuple = (\n",
      "    299             _wrap_data_with_container(method, data_to_wrap[0], X, self),\n",
      "    300             *data_to_wrap[1:],\n",
      "    301         )\n",
      "\n",
      "File c:\\Users\\Nadrian\\AppData\\Local\\Programs\\Python\\Python312\\Lib\\site-packages\\sklearn\\preprocessing\\_encoders.py:1023, in OneHotEncoder.transform(\n",
      "    self=OneHotEncoder(handle_unknown='ignore'),\n",
      "    X=  Gender Married Dependents Education Self_Emplo...    5000                  20.0           2000.0  \n",
      ")\n",
      "   1018 # validation of X happens in _check_X called by _transform\n",
      "   1019 warn_on_unknown = self.drop is not None and self.handle_unknown in {\n",
      "   1020     \"ignore\",\n",
      "   1021     \"infrequent_if_exist\",\n",
      "   1022 }\n",
      "-> 1023 X_int, X_mask = self._transform(\n",
      "        self = OneHotEncoder(handle_unknown='ignore')\n",
      "        X =   Gender Married Dependents Education Self_Employed  ApplicantIncome  \\\n",
      "0   Male     Yes          0  Graduate            No             5000   \n",
      "\n",
      "   CoapplicantIncome  LoanAmount  Loan_Amount_Term  Credit_History  \\\n",
      "0                  0    100000.0             360.0             1.0   \n",
      "\n",
      "  Property_Area  Total_Income  Loan_to_Income_Ratio  Loan_Percentage  \n",
      "0         Urban          5000                  20.0           2000.0  \n",
      "        self.handle_unknown = 'ignore'\n",
      "        warn_on_unknown = False\n",
      "   1024     X,\n",
      "   1025     handle_unknown=self.handle_unknown,\n",
      "   1026     force_all_finite=\"allow-nan\",\n",
      "   1027     warn_on_unknown=warn_on_unknown,\n",
      "   1028 )\n",
      "   1030 n_samples, n_features = X_int.shape\n",
      "   1032 if self._drop_idx_after_grouping is not None:\n",
      "\n",
      "File c:\\Users\\Nadrian\\AppData\\Local\\Programs\\Python\\Python312\\Lib\\site-packages\\sklearn\\preprocessing\\_encoders.py:196, in _BaseEncoder._transform(\n",
      "    self=OneHotEncoder(handle_unknown='ignore'),\n",
      "    X=  Gender Married Dependents Education Self_Emplo...    5000                  20.0           2000.0  ,\n",
      "    handle_unknown='ignore',\n",
      "    force_all_finite='allow-nan',\n",
      "    warn_on_unknown=False,\n",
      "    ignore_category_indices=None\n",
      ")\n",
      "    185 def _transform(\n",
      "    186     self,\n",
      "    187     X,\n",
      "   (...)\n",
      "    191     ignore_category_indices=None,\n",
      "    192 ):\n",
      "    193     X_list, n_samples, n_features = self._check_X(\n",
      "    194         X, force_all_finite=force_all_finite\n",
      "    195     )\n",
      "--> 196     self._check_feature_names(X, reset=False)\n",
      "        X =   Gender Married Dependents Education Self_Employed  ApplicantIncome  \\\n",
      "0   Male     Yes          0  Graduate            No             5000   \n",
      "\n",
      "   CoapplicantIncome  LoanAmount  Loan_Amount_Term  Credit_History  \\\n",
      "0                  0    100000.0             360.0             1.0   \n",
      "\n",
      "  Property_Area  Total_Income  Loan_to_Income_Ratio  Loan_Percentage  \n",
      "0         Urban          5000                  20.0           2000.0  \n",
      "        self = OneHotEncoder(handle_unknown='ignore')\n",
      "    197     self._check_n_features(X, reset=False)\n",
      "    199     X_int = np.zeros((n_samples, n_features), dtype=int)\n",
      "\n",
      "File c:\\Users\\Nadrian\\AppData\\Local\\Programs\\Python\\Python312\\Lib\\site-packages\\sklearn\\base.py:535, in BaseEstimator._check_feature_names(\n",
      "    self=OneHotEncoder(handle_unknown='ignore'),\n",
      "    X=  Gender Married Dependents Education Self_Emplo...    5000                  20.0           2000.0  ,\n",
      "    reset=False\n",
      ")\n",
      "    530 if not missing_names and not unexpected_names:\n",
      "    531     message += (\n",
      "    532         \"Feature names must be in the same order as they were in fit.\\n\"\n",
      "    533     )\n",
      "--> 535 raise ValueError(message)\n",
      "        message = 'The feature names should match those that were passed during fit.\\nFeature names unseen at fit time:\\n- Loan_Percentage\\n- Loan_to_Income_Ratio\\n- Total_Income\\n'\n",
      "\n",
      "ValueError: The feature names should match those that were passed during fit.\n",
      "Feature names unseen at fit time:\n",
      "- Loan_Percentage\n",
      "- Loan_to_Income_Ratio\n",
      "- Total_Income\n",
      "\n",
      "\n"
     ]
    }
   ],
   "source": [
    "\n",
    "\n",
    "# Load the trained model\n",
    "model = joblib.load(\"./artifacts/model_2.pkl\")\n",
    "\n",
    "# Initialize the Dash app\n",
    "app = dash.Dash(__name__)\n",
    "\n",
    "# Define the layout of the app\n",
    "app.layout = html.Div(\n",
    "    style={'backgroundColor': '#f2f2f2', 'padding': '20px'},\n",
    "    children=[\n",
    "        html.H1(\"Loan Eligibility Predictor\", style={'textAlign': 'center', 'fontSize': '36px', 'color': '#333333'}),\n",
    "        html.Div(\n",
    "            style={'margin-bottom': '20px'},\n",
    "            children=[\n",
    "                html.H2(\"Personal Information\", style={'fontSize': '24px', 'color': '#333333'}),\n",
    "                html.Div([\n",
    "                    html.Label('Gender:', style={'fontSize': '18px'}),\n",
    "                    dcc.Dropdown(\n",
    "                        id='gender',\n",
    "                        options=[\n",
    "                            {'label': 'Male', 'value': 'Male'},\n",
    "                            {'label': 'Female', 'value': 'Female'}\n",
    "                        ],\n",
    "                        value='Male',\n",
    "                    ),\n",
    "                ]),\n",
    "                html.Div([\n",
    "                    html.Label('Married:', style={'fontSize': '18px'}),\n",
    "                    dcc.Dropdown(\n",
    "                        id='married',\n",
    "                        options=[\n",
    "                            {'label': 'Yes', 'value': 'Yes'},\n",
    "                            {'label': 'No', 'value': 'No'}\n",
    "                        ],\n",
    "                        value='Yes',\n",
    "                    ),\n",
    "                ]),\n",
    "                html.Div([\n",
    "                    html.Label('Dependents:', style={'fontSize': '18px'}),\n",
    "                    dcc.Input(\n",
    "                        id='dependents',\n",
    "                        type='number',\n",
    "                        value=0,\n",
    "                    ),\n",
    "                ]),\n",
    "                html.Div([\n",
    "                    html.Label('Education:', style={'fontSize': '18px'}),\n",
    "                    dcc.Dropdown(\n",
    "                        id='education',\n",
    "                        options=[\n",
    "                            {'label': 'Graduate', 'value': 'Graduate'},\n",
    "                            {'label': 'Not Graduate', 'value': 'Not Graduate'}\n",
    "                        ],\n",
    "                        value='Graduate',\n",
    "                    ),\n",
    "                ]),\n",
    "                html.Div([\n",
    "                    html.Label('Self Employed:', style={'fontSize': '18px'}),\n",
    "                    dcc.Dropdown(\n",
    "                        id='self_employed',\n",
    "                        options=[\n",
    "                            {'label': 'Yes', 'value': 'Yes'},\n",
    "                            {'label': 'No', 'value': 'No'}\n",
    "                        ],\n",
    "                        value='No',\n",
    "                    ),\n",
    "                ]),\n",
    "            ],\n",
    "        ),\n",
    "        html.Div(\n",
    "            style={'margin-bottom': '20px'},\n",
    "            children=[\n",
    "                html.H2(\"Financial Information\", style={'fontSize': '24px', 'color': '#333333'}),\n",
    "                html.Div([\n",
    "                    html.Label('Applicant Income:', style={'fontSize': '18px'}),\n",
    "                    dcc.Input(\n",
    "                        id='applicant_income',\n",
    "                        type='number',\n",
    "                        value=5000,\n",
    "                    ),\n",
    "                ]),\n",
    "                html.Div([\n",
    "                    html.Label('Coapplicant Income:', style={'fontSize': '18px'}),\n",
    "                    dcc.Input(\n",
    "                        id='coapplicant_income',\n",
    "                        type='number',\n",
    "                        value=0,\n",
    "                    ),\n",
    "                ]),\n",
    "                html.Div([\n",
    "                    html.Label('Loan Amount:', style={'fontSize': '18px'}),\n",
    "                    dcc.Input(\n",
    "                        id='loan_amount',\n",
    "                        type='number',\n",
    "                        value=100000,\n",
    "                    ),\n",
    "                ]),\n",
    "                html.Div([\n",
    "                    html.Label('Loan Amount Term:', style={'fontSize': '18px'}),\n",
    "                    dcc.Input(\n",
    "                        id='loan_amount_term',\n",
    "                        type='number',\n",
    "                        value=360,\n",
    "                    ),\n",
    "                ]),\n",
    "                html.Div([\n",
    "                    html.Label('Credit History:', style={'fontSize': '18px'}),\n",
    "                    dcc.Dropdown(\n",
    "                        id='credit_history',\n",
    "                        options=[\n",
    "                            {'label': 'Yes', 'value': 1},\n",
    "                            {'label': 'No', 'value': 0}\n",
    "                        ],\n",
    "                        value=1,\n",
    "                    ),\n",
    "                ]),\n",
    "                html.Div([\n",
    "                    html.Label('Property Area:', style={'fontSize': '18px'}),\n",
    "                    dcc.Dropdown(\n",
    "                        id='property_area',\n",
    "                        options=[\n",
    "                            {'label': 'Urban', 'value': 'Urban'},\n",
    "                            {'label': 'Semiurban', 'value': 'Semiurban'},\n",
    "                            {'label': 'Rural', 'value': 'Rural'}\n",
    "                        ],\n",
    "                        value='Urban',\n",
    "                    ),\n",
    "                ]),\n",
    "            ],\n",
    "        ),\n",
    "        html.Button('Check Eligibility', id='submit-val', n_clicks=0, style={'width': '100%', 'fontSize': '20px'}),\n",
    "        html.Div(id='output-state', style={'margin-top': '20px', 'fontSize': '24px', 'textAlign': 'center'})\n",
    "    ]\n",
    ")\n",
    "\n",
    "# Define callback to predict loan eligibility\n",
    "@app.callback(\n",
    "    Output('output-state', 'children'),\n",
    "    [\n",
    "        Input('submit-val', 'n_clicks'),\n",
    "        Input('gender', 'value'),\n",
    "        Input('married', 'value'),\n",
    "        Input('dependents', 'value'),\n",
    "        Input('education', 'value'),\n",
    "        Input('self_employed', 'value'),\n",
    "        Input('applicant_income', 'value'),\n",
    "        Input('coapplicant_income', 'value'),\n",
    "        Input('loan_amount', 'value'),\n",
    "        Input('loan_amount_term', 'value'),\n",
    "        Input('credit_history', 'value'),\n",
    "        Input('property_area', 'value'),\n",
    "    ]\n",
    ")\n",
    "def update_output(n_clicks, gender, married, dependents, education, self_employed, applicant_income, coapplicant_income, loan_amount, loan_amount_term, credit_history, property_area):\n",
    "    # Convert input values to appropriate data types\n",
    "    dependents = str(dependents) if dependents is not None else None\n",
    "    applicant_income = int(applicant_income) if applicant_income is not None else None\n",
    "    coapplicant_income = int(coapplicant_income) if coapplicant_income is not None else None\n",
    "    loan_amount = float(loan_amount) if loan_amount is not None else None\n",
    "    loan_amount_term = float(loan_amount_term) if loan_amount_term is not None else None\n",
    "    credit_history = float(credit_history) if credit_history is not None else None\n",
    "\n",
    "    df = pd.DataFrame({\n",
    "        'Gender': [gender],\n",
    "        'Married': [married],\n",
    "        'Dependents': [dependents],\n",
    "        'Education': [education],\n",
    "        'Self_Employed': [self_employed],\n",
    "        'ApplicantIncome': [applicant_income],\n",
    "        'CoapplicantIncome': [coapplicant_income],\n",
    "        'LoanAmount': [loan_amount],\n",
    "        'Loan_Amount_Term': [loan_amount_term],\n",
    "        'Credit_History': [credit_history],\n",
    "        'Property_Area': [property_area]\n",
    "    })\n",
    "\n",
    "    # Create 'Total_Income'\n",
    "    df['Total_Income'] = df['ApplicantIncome'] + df['CoapplicantIncome']\n",
    "\n",
    "    # Calculate 'Loan to Income Ratio'\n",
    "    df['Loan_to_Income_Ratio'] = df['LoanAmount'] / df['Total_Income']\n",
    "\n",
    "    # Loan_Percentage: Calculate the percentage of LoanAmount with respect to the TotalIncome\n",
    "    df['Loan_Percentage'] = (df['LoanAmount'] / df['Total_Income']) * 100\n",
    "\n",
    "    # Predict loan eligibility\n",
    "    prediction = model.predict(df[['Gender', 'Married', 'Dependents', 'Education', 'Self_Employed', 'ApplicantIncome', 'CoapplicantIncome', 'LoanAmount', 'Loan_Amount_Term', 'Credit_History', 'Property_Area', 'Total_Income', 'Loan_to_Income_Ratio', 'Loan_Percentage']])\n",
    "\n",
    "\n",
    "    if prediction[0] == 'Y':\n",
    "        return html.Span('Congratulations! You are eligible for a loan.', style={'color': 'green'})\n",
    "    else:\n",
    "        return html.Span('Sorry! You are not eligible for a loan.', style={'color': 'red'})\n",
    "\n",
    "\n",
    "if __name__ == '__main__':\n",
    "    app.run_server(debug=True)\n"
   ]
  }
 ],
 "metadata": {
  "kernelspec": {
   "display_name": "Python 3",
   "language": "python",
   "name": "python3"
  },
  "language_info": {
   "codemirror_mode": {
    "name": "ipython",
    "version": 3
   },
   "file_extension": ".py",
   "mimetype": "text/x-python",
   "name": "python",
   "nbconvert_exporter": "python",
   "pygments_lexer": "ipython3",
   "version": "3.12.3"
  }
 },
 "nbformat": 4,
 "nbformat_minor": 2
}
